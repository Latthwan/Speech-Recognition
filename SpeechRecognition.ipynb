{
 "cells": [
  {
   "cell_type": "code",
   "execution_count": 5,
   "id": "elect-virus",
   "metadata": {},
   "outputs": [
    {
     "name": "stdout",
     "output_type": "stream",
     "text": [
      "Requirement already satisfied: SpeechRecognition in d:\\program\\ananconda\\lib\\site-packages (3.8.1)\n"
     ]
    }
   ],
   "source": [
    "!pip install SpeechRecognition"
   ]
  },
  {
   "cell_type": "code",
   "execution_count": 6,
   "id": "circular-roommate",
   "metadata": {},
   "outputs": [
    {
     "name": "stdout",
     "output_type": "stream",
     "text": [
      "Requirement already satisfied: pyaudio in d:\\program\\ananconda\\lib\\site-packages (0.2.11)\n"
     ]
    }
   ],
   "source": [
    "!pip install pyaudio"
   ]
  },
  {
   "cell_type": "code",
   "execution_count": 7,
   "id": "fantastic-munich",
   "metadata": {},
   "outputs": [
    {
     "name": "stdout",
     "output_type": "stream",
     "text": [
      "Processing c:\\users\\wan\\speechrecognition\\pyaudio-0.2.11-cp38-cp38-win_amd64.whl\n",
      "PyAudio is already installed with the same version as the provided wheel. Use --force-reinstall to force an installation of the wheel.\n"
     ]
    }
   ],
   "source": [
    "!pip install PyAudio-0.2.11-cp38-cp38-win_amd64.whl\n"
   ]
  },
  {
   "cell_type": "code",
   "execution_count": 10,
   "id": "organized-velvet",
   "metadata": {},
   "outputs": [],
   "source": [
    "import speech_recognition as sr\n",
    "import pyaudio\n"
   ]
  },
  {
   "cell_type": "code",
   "execution_count": 11,
   "id": "sharing-sustainability",
   "metadata": {},
   "outputs": [
    {
     "data": {
      "text/plain": [
       "['Microsoft Sound Mapper - Input',\n",
       " 'Microphone Array (Realtek(R) Au',\n",
       " 'Microsoft Sound Mapper - Output',\n",
       " 'Headphones (Realtek(R) Audio)',\n",
       " 'Speakers (Realtek(R) Audio)',\n",
       " 'Primary Sound Capture Driver',\n",
       " 'Microphone Array (Realtek(R) Audio)',\n",
       " 'Primary Sound Driver',\n",
       " 'Headphones (Realtek(R) Audio)',\n",
       " 'Speakers (Realtek(R) Audio)',\n",
       " 'Speakers (Realtek(R) Audio)',\n",
       " 'Headphones (Realtek(R) Audio)',\n",
       " 'Microphone Array (Realtek(R) Audio)',\n",
       " 'Microphone Array (Realtek HD Audio Mic input)',\n",
       " 'Headphones 1 (Realtek HD Audio 2nd output with SST)',\n",
       " 'Headphones 2 (Realtek HD Audio 2nd output with SST)',\n",
       " 'PC Speaker (Realtek HD Audio 2nd output with SST)',\n",
       " 'Speakers 1 (Realtek HD Audio output with SST)',\n",
       " 'Speakers 2 (Realtek HD Audio output with SST)',\n",
       " 'PC Speaker (Realtek HD Audio output with SST)',\n",
       " 'Stereo Mix (Realtek HD Audio Stereo input)']"
      ]
     },
     "execution_count": 11,
     "metadata": {},
     "output_type": "execute_result"
    }
   ],
   "source": [
    "sr.Microphone.list_microphone_names()"
   ]
  },
  {
   "cell_type": "code",
   "execution_count": 12,
   "id": "alternative-context",
   "metadata": {},
   "outputs": [
    {
     "data": {
      "text/plain": [
       "<speech_recognition.Microphone at 0x2d1ec2aa370>"
      ]
     },
     "execution_count": 12,
     "metadata": {},
     "output_type": "execute_result"
    }
   ],
   "source": [
    "mic = sr.Microphone(1) \n",
    "mic"
   ]
  },
  {
   "cell_type": "code",
   "execution_count": 13,
   "id": "meaningful-veteran",
   "metadata": {},
   "outputs": [
    {
     "data": {
      "text/plain": [
       "<speech_recognition.Recognizer at 0x2d1ec2aa5b0>"
      ]
     },
     "execution_count": 13,
     "metadata": {},
     "output_type": "execute_result"
    }
   ],
   "source": [
    "recog = sr.Recognizer()\n",
    "recog"
   ]
  },
  {
   "cell_type": "code",
   "execution_count": 14,
   "id": "motivated-queensland",
   "metadata": {},
   "outputs": [],
   "source": [
    "with mic as source:\n",
    "   audio = recog.listen(source)"
   ]
  },
  {
   "cell_type": "code",
   "execution_count": 21,
   "id": "armed-scheme",
   "metadata": {},
   "outputs": [
    {
     "name": "stdout",
     "output_type": "stream",
     "text": [
      "กเขามันทิ้งกระป๋องกระแป๋งนอนร้องไห้ขอโทษที่ทำให้มันแห้งก็เลยนอนร้องไห้\n"
     ]
    }
   ],
   "source": [
    "with mic as source:\n",
    "    audio = recog.listen(source)\n",
    "    print(recog.recognize_google(audio,language='th-TH'))\n"
   ]
  },
  {
   "cell_type": "code",
   "execution_count": 20,
   "id": "modern-twins",
   "metadata": {},
   "outputs": [
    {
     "ename": "IndentationError",
     "evalue": "expected an indented block (<ipython-input-20-6f39ef74b253>, line 3)",
     "output_type": "error",
     "traceback": [
      "\u001b[1;36m  File \u001b[1;32m\"<ipython-input-20-6f39ef74b253>\"\u001b[1;36m, line \u001b[1;32m3\u001b[0m\n\u001b[1;33m    audio = recog.listen(source)\u001b[0m\n\u001b[1;37m    ^\u001b[0m\n\u001b[1;31mIndentationError\u001b[0m\u001b[1;31m:\u001b[0m expected an indented block\n"
     ]
    }
   ],
   "source": [
    "with mic as source:\n",
    "    while True :\n",
    "    audio = recog.listen(source)\n",
    "    print(recog.recognize_google(audio,language='th-TH'))"
   ]
  },
  {
   "cell_type": "code",
   "execution_count": null,
   "id": "composite-import",
   "metadata": {},
   "outputs": [],
   "source": []
  }
 ],
 "metadata": {
  "kernelspec": {
   "display_name": "Python 3",
   "language": "python",
   "name": "python3"
  },
  "language_info": {
   "codemirror_mode": {
    "name": "ipython",
    "version": 3
   },
   "file_extension": ".py",
   "mimetype": "text/x-python",
   "name": "python",
   "nbconvert_exporter": "python",
   "pygments_lexer": "ipython3",
   "version": "3.8.8"
  }
 },
 "nbformat": 4,
 "nbformat_minor": 5
}
